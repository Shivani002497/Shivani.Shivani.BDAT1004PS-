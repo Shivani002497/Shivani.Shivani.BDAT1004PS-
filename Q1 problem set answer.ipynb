{
 "cells": [
  {
   "cell_type": "markdown",
   "id": "973a7e01",
   "metadata": {},
   "source": [
    "\n",
    "# Question 1. What data type is each of the following?\n",
    "5 -> integer \n",
    "5.0 -> Float (double)\n",
    "5 > 1 -> boolean\n",
    "'5' -> string\n",
    "5 * 2 -> integer\n",
    "'5' * 2 ->string\n",
    "'5' + '2' -> string\n",
    "5/2 -> float\n",
    "5 % 2 -> integer\n",
    "{5, 2, 1} -> integer array \n",
    "5 == 3 -> boolean\n",
    "math.pi -> float (3.141592653589793)"
   ]
  },
  {
   "cell_type": "code",
   "execution_count": null,
   "id": "d3e6975e",
   "metadata": {},
   "outputs": [],
   "source": []
  }
 ],
 "metadata": {
  "kernelspec": {
   "display_name": "Python 3 (ipykernel)",
   "language": "python",
   "name": "python3"
  },
  "language_info": {
   "codemirror_mode": {
    "name": "ipython",
    "version": 3
   },
   "file_extension": ".py",
   "mimetype": "text/x-python",
   "name": "python",
   "nbconvert_exporter": "python",
   "pygments_lexer": "ipython3",
   "version": "3.9.12"
  }
 },
 "nbformat": 4,
 "nbformat_minor": 5
}
